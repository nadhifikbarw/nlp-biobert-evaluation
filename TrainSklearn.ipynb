{
 "cells": [
  {
   "cell_type": "code",
   "execution_count": null,
   "id": "c303d35d-09c1-44b9-96e5-5a3495d52bcd",
   "metadata": {},
   "outputs": [],
   "source": [
    "!pip install PySastrawi"
   ]
  },
  {
   "cell_type": "code",
   "execution_count": 125,
   "id": "0ec9cbb2-a171-484c-acb9-8727cf499914",
   "metadata": {},
   "outputs": [],
   "source": [
    "# Extend stopwords\n",
    "from Sastrawi.StopWordRemover.StopWordRemoverFactory import StopWordRemoverFactory\n",
    "class ExtStopWordRemoverFactory(StopWordRemoverFactory):\n",
    "  def get_stop_words(self):\n",
    "    new_sw = [\"ada\",\"adalah\",\"adanya\",\"adapun\",\"agak\",\"agaknya\",\"agar\",\"akan\",\"akankah\",\"akhir\",\"akhiri\",\"akhirnya\",\"aku\",\"akulah\",\"amat\",\"amatlah\",\"anda\",\"andalah\",\"antar\",\"antara\",\"antaranya\",\"apa\",\"apaan\",\"apabila\",\"apakah\",\"apalagi\",\"apatah\",\"artinya\",\"asal\",\"asalkan\",\"atas\",\"atau\",\"ataukah\",\"ataupun\",\"awal\",\"awalnya\",\"bagai\",\"bagaikan\",\"bagaimana\",\"bagaimanakah\",\"bagaimanapun\",\"bagi\",\"bagian\",\"bahkan\",\"bahwa\",\"bahwasanya\",\"baik\",\"bakal\",\"bakalan\",\"balik\",\"banyak\",\"bapak\",\"baru\",\"bawah\",\"beberapa\",\"begini\",\"beginian\",\"beginikah\",\"beginilah\",\"begitu\",\"begitukah\",\"begitulah\",\"begitupun\",\"bekerja\",\"belakang\",\"belakangan\",\"belum\",\"belumlah\",\"benar\",\"benarkah\",\"benarlah\",\"berada\",\"berakhir\",\"berakhirlah\",\"berakhirnya\",\"berapa\",\"berapakah\",\"berapalah\",\"berapapun\",\"berarti\",\"berawal\",\"berbagai\",\"berdatangan\",\"beri\",\"berikan\",\"berikut\",\"berikutnya\",\"berjumlah\",\"berkali-kali\",\"berkata\",\"berkehendak\",\"berkeinginan\",\"berkenaan\",\"berlainan\",\"berlalu\",\"berlangsung\",\"berlebihan\",\"bermacam\",\"bermacam-macam\",\"bermaksud\",\"bermula\",\"bersama\",\"bersama-sama\",\"bersiap\",\"bersiap-siap\",\"bertanya\",\"bertanya-tanya\",\"berturut\",\"berturut-turut\",\"bertutur\",\"berujar\",\"berupa\",\"besar\",\"betul\",\"betulkah\",\"biasa\",\"biasanya\",\"bila\",\"bilakah\",\"bisa\",\"bisakah\",\"boleh\",\"bolehkah\",\"bolehlah\",\"buat\",\"bukan\",\"bukankah\",\"bukanlah\",\"bukannya\",\"bulan\",\"bung\",\"cara\",\"caranya\",\"cukup\",\"cukupkah\",\"cukuplah\",\"cuma\",\"dahulu\",\"dalam\",\"dan\",\"dapat\",\"dari\",\"daripada\",\"datang\",\"dekat\",\"demi\",\"demikian\",\"demikianlah\",\"dengan\",\"depan\",\"di\",\"dia\",\"diakhiri\",\"diakhirinya\",\"dialah\",\"diantara\",\"diantaranya\",\"diberi\",\"diberikan\",\"diberikannya\",\"dibuat\",\"dibuatnya\",\"didapat\",\"didatangkan\",\"digunakan\",\"diibaratkan\",\"diibaratkannya\",\"diingat\",\"diingatkan\",\"diinginkan\",\"dijawab\",\"dijelaskan\",\"dijelaskannya\",\"dikarenakan\",\"dikatakan\",\"dikatakannya\",\"dikerjakan\",\"diketahui\",\"diketahuinya\",\"dikira\",\"dilakukan\",\"dilalui\",\"dilihat\",\"dimaksud\",\"dimaksudkan\",\"dimaksudkannya\",\"dimaksudnya\",\"diminta\",\"dimintai\",\"dimisalkan\",\"dimulai\",\"dimulailah\",\"dimulainya\",\"dimungkinkan\",\"dini\",\"dipastikan\",\"diperbuat\",\"diperbuatnya\",\"dipergunakan\",\"diperkirakan\",\"diperlihatkan\",\"diperlukan\",\"diperlukannya\",\"dipersoalkan\",\"dipertanyakan\",\"dipunyai\",\"diri\",\"dirinya\",\"disampaikan\",\"disebut\",\"disebutkan\",\"disebutkannya\",\"disini\",\"disinilah\",\"ditambahkan\",\"ditandaskan\",\"ditanya\",\"ditanyai\",\"ditanyakan\",\"ditegaskan\",\"ditujukan\",\"ditunjuk\",\"ditunjuki\",\"ditunjukkan\",\"ditunjukkannya\",\"ditunjuknya\",\"dituturkan\",\"dituturkannya\",\"diucapkan\",\"diucapkannya\",\"diungkapkan\",\"dong\",\"dua\",\"dulu\",\"empat\",\"enggak\",\"enggaknya\",\"entah\",\"entahlah\",\"guna\",\"gunakan\",\"hal\",\"hampir\",\"hanya\",\"hanyalah\",\"hari\",\"harus\",\"haruslah\",\"harusnya\",\"hendak\",\"hendaklah\",\"hendaknya\",\"hingga\",\"ia\",\"ialah\",\"ibarat\",\"ibaratkan\",\"ibaratnya\",\"ibu\",\"ikut\",\"ingat\",\"ingat-ingat\",\"ingin\",\"inginkah\",\"inginkan\",\"ini\",\"inikah\",\"inilah\",\"itu\",\"itukah\",\"itulah\",\"jadi\",\"jadilah\",\"jadinya\",\"jangan\",\"jangankan\",\"janganlah\",\"jauh\",\"jawab\",\"jawaban\",\"jawabnya\",\"jelas\",\"jelaskan\",\"jelaslah\",\"jelasnya\",\"jika\",\"jikalau\",\"juga\",\"jumlah\",\"jumlahnya\",\"justru\",\"kala\",\"kalau\",\"kalaulah\",\"kalaupun\",\"kalian\",\"kami\",\"kamilah\",\"kamu\",\"kamulah\",\"kan\",\"kapan\",\"kapankah\",\"kapanpun\",\"karena\",\"karenanya\",\"kasus\",\"kata\",\"katakan\",\"katakanlah\",\"katanya\",\"ke\",\"keadaan\",\"kebetulan\",\"kecil\",\"kedua\",\"keduanya\",\"keinginan\",\"kelamaan\",\"kelihatan\",\"kelihatannya\",\"kelima\",\"keluar\",\"kembali\",\"kemudian\",\"kemungkinan\",\"kemungkinannya\",\"kenapa\",\"kepada\",\"kepadanya\",\"kesampaian\",\"keseluruhan\",\"keseluruhannya\",\"keterlaluan\",\"ketika\",\"khususnya\",\"kini\",\"kinilah\",\"kira\",\"kira-kira\",\"kiranya\",\"kita\",\"kitalah\",\"kok\",\"kurang\",\"lagi\",\"lagian\",\"lah\",\"lain\",\"lainnya\",\"lalu\",\"lama\",\"lamanya\",\"lanjut\",\"lanjutnya\",\"lebih\",\"lewat\",\"lima\",\"luar\",\"macam\",\"maka\",\"makanya\",\"makin\",\"malah\",\"malahan\",\"mampu\",\"mampukah\",\"mana\",\"manakala\",\"manalagi\",\"masa\",\"masalah\",\"masalahnya\",\"masih\",\"masihkah\",\"masing\",\"masing-masing\",\"mau\",\"maupun\",\"melainkan\",\"melakukan\",\"melalui\",\"melihat\",\"melihatnya\",\"memang\",\"memastikan\",\"memberi\",\"memberikan\",\"membuat\",\"memerlukan\",\"memihak\",\"meminta\",\"memintakan\",\"memisalkan\",\"memperbuat\",\"mempergunakan\",\"memperkirakan\",\"memperlihatkan\",\"mempersiapkan\",\"mempersoalkan\",\"mempertanyakan\",\"mempunyai\",\"memulai\",\"memungkinkan\",\"menaiki\",\"menambahkan\",\"menandaskan\",\"menanti\",\"menanti-nanti\",\"menantikan\",\"menanya\",\"menanyai\",\"menanyakan\",\"mendapat\",\"mendapatkan\",\"mendatang\",\"mendatangi\",\"mendatangkan\",\"menegaskan\",\"mengakhiri\",\"mengapa\",\"mengatakan\",\"mengatakannya\",\"mengenai\",\"mengerjakan\",\"mengetahui\",\"menggunakan\",\"menghendaki\",\"mengibaratkan\",\"mengibaratkannya\",\"mengingat\",\"mengingatkan\",\"menginginkan\",\"mengira\",\"mengucapkan\",\"mengucapkannya\",\"mengungkapkan\",\"menjadi\",\"menjawab\",\"menjelaskan\",\"menuju\",\"menunjuk\",\"menunjuki\",\"menunjukkan\",\"menunjuknya\",\"menurut\",\"menuturkan\",\"menyampaikan\",\"menyangkut\",\"menyatakan\",\"menyebutkan\",\"menyeluruh\",\"menyiapkan\",\"merasa\",\"mereka\",\"merekalah\",\"merupakan\",\"meski\",\"meskipun\",\"meyakini\",\"meyakinkan\",\"minta\",\"mirip\",\"misal\",\"misalkan\",\"misalnya\",\"mula\",\"mulai\",\"mulailah\",\"mulanya\",\"mungkin\",\"mungkinkah\",\"nah\",\"naik\",\"namun\",\"nanti\",\"nantinya\",\"nyaris\",\"nyatanya\",\"oleh\",\"olehnya\",\"pada\",\"padahal\",\"padanya\",\"pak\",\"paling\",\"panjang\",\"pantas\",\"para\",\"pasti\",\"pastilah\",\"penting\",\"pentingnya\",\"per\",\"percuma\",\"perlu\",\"perlukah\",\"perlunya\",\"pernah\",\"persoalan\",\"pertama\",\"pertama-tama\",\"pertanyaan\",\"pertanyakan\",\"pihak\",\"pihaknya\",\"pukul\",\"pula\",\"pun\",\"punya\",\"rasa\",\"rasanya\",\"rata\",\"rupanya\",\"saat\",\"saatnya\",\"saja\",\"sajalah\",\"saling\",\"sama\",\"sama-sama\",\"sambil\",\"sampai\",\"sampai-sampai\",\"sampaikan\",\"sana\",\"sangat\",\"sangatlah\",\"satu\",\"saya\",\"sayalah\",\"se\",\"sebab\",\"sebabnya\",\"sebagai\",\"sebagaimana\",\"sebagainya\",\"sebagian\",\"sebaik\",\"sebaik-baiknya\",\"sebaiknya\",\"sebaliknya\",\"sebanyak\",\"sebegini\",\"sebegitu\",\"sebelum\",\"sebelumnya\",\"sebenarnya\",\"seberapa\",\"sebesar\",\"sebetulnya\",\"sebisanya\",\"sebuah\",\"sebut\",\"sebutlah\",\"sebutnya\",\"secara\",\"secukupnya\",\"sedang\",\"sedangkan\",\"sedemikian\",\"sedikit\",\"sedikitnya\",\"seenaknya\",\"segala\",\"segalanya\",\"segera\",\"seharusnya\",\"sehingga\",\"seingat\",\"sejak\",\"sejauh\",\"sejenak\",\"sejumlah\",\"sekadar\",\"sekadarnya\",\"sekali\",\"sekali-kali\",\"sekalian\",\"sekaligus\",\"sekalipun\",\"sekarang\",\"sekarang\",\"sekecil\",\"seketika\",\"sekiranya\",\"sekitar\",\"sekitarnya\",\"sekurang-kurangnya\",\"sekurangnya\",\"sela\",\"selain\",\"selaku\",\"selalu\",\"selama\",\"selama-lamanya\",\"selamanya\",\"selanjutnya\",\"seluruh\",\"seluruhnya\",\"semacam\",\"semakin\",\"semampu\",\"semampunya\",\"semasa\",\"semasih\",\"semata\",\"semata-mata\",\"semaunya\",\"sementara\",\"semisal\",\"semisalnya\",\"sempat\",\"semua\",\"semuanya\",\"semula\",\"sendiri\",\"sendirian\",\"sendirinya\",\"seolah\",\"seolah-olah\",\"seorang\",\"sepanjang\",\"sepantasnya\",\"sepantasnyalah\",\"seperlunya\",\"seperti\",\"sepertinya\",\"sepihak\",\"sering\",\"seringnya\",\"serta\",\"serupa\",\"sesaat\",\"sesama\",\"sesampai\",\"sesegera\",\"sesekali\",\"seseorang\",\"sesuatu\",\"sesuatunya\",\"sesudah\",\"sesudahnya\",\"setelah\",\"setempat\",\"setengah\",\"seterusnya\",\"setiap\",\"setiba\",\"setibanya\",\"setidak-tidaknya\",\"setidaknya\",\"setinggi\",\"seusai\",\"sewaktu\",\"siap\",\"siapa\",\"siapakah\",\"siapapun\",\"sini\",\"sinilah\",\"soal\",\"soalnya\",\"suatu\",\"sudah\",\"sudahkah\",\"sudahlah\",\"supaya\",\"tadi\",\"tadinya\",\"tahu\",\"tahun\",\"tak\",\"tambah\",\"tambahnya\",\"tampak\",\"tampaknya\",\"tandas\",\"tandasnya\",\"tanpa\",\"tanya\",\"tanyakan\",\"tanyanya\",\"tapi\",\"tegas\",\"tegasnya\",\"telah\",\"tempat\",\"tengah\",\"tentang\",\"tentu\",\"tentulah\",\"tentunya\",\"tepat\",\"terakhir\",\"terasa\",\"terbanyak\",\"terdahulu\",\"terdapat\",\"terdiri\",\"terhadap\",\"terhadapnya\",\"teringat\",\"teringat-ingat\",\"terjadi\",\"terjadilah\",\"terjadinya\",\"terkira\",\"terlalu\",\"terlebih\",\"terlihat\",\"termasuk\",\"ternyata\",\"tersampaikan\",\"tersebut\",\"tersebutlah\",\"tertentu\",\"tertuju\",\"terus\",\"terutama\",\"tetap\",\"tetapi\",\"tiap\",\"tiba\",\"tiba-tiba\",\"tidak\",\"tidakkah\",\"tidaklah\",\"tiga\",\"tinggi\",\"toh\",\"tunjuk\",\"turut\",\"tutur\",\"tuturnya\",\"ucap\",\"ucapnya\",\"ujar\",\"ujarnya\",\"umum\",\"umumnya\",\"ungkap\",\"ungkapnya\",\"untuk\",\"usah\",\"usai\",\"waduh\",\"wah\",\"wahai\",\"waktu\",\"waktunya\",\"walau\",\"walaupun\",\"wong\",\"yaitu\",\"yakin\",\"yakni\",\"yang\"]\n",
    "    new_sw.extend(super().get_stop_words())\n",
    "    return list(set(new_sw))\n",
    "sw_remover = ExtStopWordRemoverFactory().create_stop_word_remover()"
   ]
  },
  {
   "cell_type": "markdown",
   "id": "54ae545e-9abd-4829-9cdf-3bc7e8af9e02",
   "metadata": {},
   "source": [
    "# Dataset"
   ]
  },
  {
   "cell_type": "code",
   "execution_count": 126,
   "id": "bdb79215-1282-41e8-b284-14786c3c8d5f",
   "metadata": {},
   "outputs": [
    {
     "name": "stderr",
     "output_type": "stream",
     "text": [
      "Using custom data configuration default-9f1647abf344e7d3\n",
      "Reusing dataset csv (C:\\Users\\Reactive\\.cache\\huggingface\\datasets\\csv\\default-9f1647abf344e7d3\\0.0.0)\n",
      "Using custom data configuration default-be3e883474bd0056\n",
      "Reusing dataset csv (C:\\Users\\Reactive\\.cache\\huggingface\\datasets\\csv\\default-be3e883474bd0056\\0.0.0)\n"
     ]
    }
   ],
   "source": [
    "# Load trainset and testset\n",
    "from datasets import Dataset\n",
    "train_dataset = Dataset.from_csv('dataset/tagging_classification_train.csv')\n",
    "test_dataset = Dataset.from_csv('dataset/tagging_classification_test.csv')"
   ]
  },
  {
   "cell_type": "code",
   "execution_count": 127,
   "id": "ead9040e-b4e4-4a04-9a58-3ceafd806e94",
   "metadata": {},
   "outputs": [],
   "source": [
    "# Remove unused columns from datasaet\n",
    "train_dataset = train_dataset.remove_columns(['Unnamed: 0', 'Artikel', 'attention_mask', 'input_ids', 'label', 'token_type_ids']).rename_column('Tag', 'label')\n",
    "test_dataset = test_dataset.remove_columns(['Unnamed: 0', 'Artikel', 'attention_mask', 'input_ids', 'label', 'token_type_ids']).rename_column('Tag', 'label')"
   ]
  },
  {
   "cell_type": "code",
   "execution_count": 128,
   "id": "9da6ab37-56ac-468a-b84b-280c7e3aad82",
   "metadata": {},
   "outputs": [],
   "source": [
    "# Convert dataset to Pandas' DataFrame\n",
    "train_df = train_dataset.to_pandas()\n",
    "test_df = test_dataset.to_pandas()"
   ]
  },
  {
   "cell_type": "code",
   "execution_count": 129,
   "id": "885eb716-7e8f-4f7f-9a4e-11e5d847c2da",
   "metadata": {},
   "outputs": [],
   "source": [
    "# Create TF-IDF representation from dataset and seperate labels\n",
    "vectorizer = TfidfVectorizer(strip_accents='ascii')\n",
    "vectorizer.fit(train_df['text'])\n",
    "vectorizer.fit(test_df['text'])\n",
    "\n",
    "x_train = vectorizer.transform(train_df['text'])\n",
    "x_test = vectorizer.transform(test_df['text'])\n",
    "y_train = train_df['label']\n",
    "y_test = test_df['label']"
   ]
  },
  {
   "cell_type": "code",
   "execution_count": 130,
   "id": "f50bed64-7b9c-4282-ac2e-5ea9a5addba7",
   "metadata": {},
   "outputs": [],
   "source": [
    "# Create dataset that's preprocessed\n",
    "import string\n",
    "def preprocess(value, sw_remover):\n",
    "  value = value.lower()\n",
    "  value = value.translate(str.maketrans('', '', string.punctuation + '0123456789'))\n",
    "  value = sw_remover.remove(value)\n",
    "  value = value.strip()\n",
    "  return value"
   ]
  },
  {
   "cell_type": "code",
   "execution_count": 131,
   "id": "7d5704b2-4c58-427a-ae42-e15f48f2dc9d",
   "metadata": {},
   "outputs": [],
   "source": [
    "# Copy dataframe and perform preprocessing\n",
    "train_df_pre = train_df.copy()\n",
    "test_df_pre = test_df.copy()\n",
    "train_df_pre['text'] = train_df_pre['text'].apply(lambda x: preprocess(x, sw_remover)).replace('', float(\"NaN\"))\n",
    "test_df_pre['text'] = test_df_pre['text'].apply(lambda x: preprocess(x, sw_remover)).replace('', float(\"NaN\"))\n",
    "train_df_pre.dropna(inplace=True)\n",
    "test_df_pre.dropna(inplace=True)"
   ]
  },
  {
   "cell_type": "code",
   "execution_count": 143,
   "id": "3e7db88e-4841-4a92-99a9-b8f0096d4137",
   "metadata": {},
   "outputs": [],
   "source": [
    "# Create TF-IDF representation from preprocessed dataset and seperate labels\n",
    "vectorizer_pre = TfidfVectorizer(strip_accents='ascii')\n",
    "vectorizer_pre.fit(train_df_pre['text'])\n",
    "vectorizer_pre.fit(test_df_pre['text'])\n",
    "\n",
    "x_train_pre = vectorizer_pre.transform(train_df_pre['text'])\n",
    "x_test_pre = vectorizer_pre.transform(test_df_pre['text'])\n",
    "y_train_pre = train_df_pre['label']\n",
    "y_test_pre = test_df_pre['label']"
   ]
  },
  {
   "cell_type": "markdown",
   "id": "3ccae4b5-014b-4520-be3b-181464aab16f",
   "metadata": {},
   "source": [
    "# KNN"
   ]
  },
  {
   "cell_type": "code",
   "execution_count": 144,
   "id": "a9039cbe-f6ff-4d20-bfdd-495badf05a6a",
   "metadata": {},
   "outputs": [],
   "source": [
    "# Train KNN for non-prepreocessed data with tuning\n",
    "from sklearn.model_selection import GridSearchCV\n",
    "from sklearn.neighbors import KNeighborsClassifier\n",
    "\n",
    "hyperparameters = {\n",
    "    'leaf_size': [5, 10, 15, 20, 25, 30],\n",
    "    'n_neighbors':range(1, 5),\n",
    "    'p': [1, 2],\n",
    "    'weights':['uniform', 'distance']\n",
    "}"
   ]
  },
  {
   "cell_type": "code",
   "execution_count": 145,
   "id": "721aec7c-5e0d-44d6-a3cf-54a29043d4a4",
   "metadata": {},
   "outputs": [
    {
     "data": {
      "text/plain": [
       "GridSearchCV(cv=8, estimator=KNeighborsClassifier(),\n",
       "             param_grid={'leaf_size': [5, 10, 15, 20, 25, 30],\n",
       "                         'n_neighbors': range(1, 5), 'p': [1, 2],\n",
       "                         'weights': ['uniform', 'distance']})"
      ]
     },
     "execution_count": 145,
     "metadata": {},
     "output_type": "execute_result"
    }
   ],
   "source": [
    "# Model no preprocessing\n",
    "model = GridSearchCV(KNeighborsClassifier(), hyperparameters, cv=8)\n",
    "model.fit(x_train, y_train)"
   ]
  },
  {
   "cell_type": "code",
   "execution_count": 146,
   "id": "85610641-ffe5-4602-8810-6718d49bccf1",
   "metadata": {},
   "outputs": [
    {
     "data": {
      "text/plain": [
       "GridSearchCV(cv=8, estimator=KNeighborsClassifier(),\n",
       "             param_grid={'leaf_size': [5, 10, 15, 20, 25, 30],\n",
       "                         'n_neighbors': range(1, 5), 'p': [1, 2],\n",
       "                         'weights': ['uniform', 'distance']})"
      ]
     },
     "execution_count": 146,
     "metadata": {},
     "output_type": "execute_result"
    }
   ],
   "source": [
    "# Model preprocessing\n",
    "model_pre = GridSearchCV(KNeighborsClassifier(), hyperparameters, cv=8)\n",
    "model_pre.fit(x_train_pre, y_train_pre)"
   ]
  },
  {
   "cell_type": "code",
   "execution_count": 147,
   "id": "34d4b430-f22c-496a-8dff-0e11ea8ab668",
   "metadata": {},
   "outputs": [],
   "source": [
    "y_pred = model.predict(x_test)\n",
    "y_pred_pre = model_pre.predict(x_test_pre)"
   ]
  },
  {
   "cell_type": "code",
   "execution_count": 148,
   "id": "3db5d179-542e-4527-a73d-b3e0c6bc52ca",
   "metadata": {},
   "outputs": [
    {
     "name": "stdout",
     "output_type": "stream",
     "text": [
      "              precision    recall  f1-score   support\n",
      "\n",
      "     Artikel       1.00      0.50      0.67         2\n",
      "      Gejala       0.44      0.41      0.43        56\n",
      "       Kapan       0.69      0.37      0.48        30\n",
      "       Objek       0.29      0.74      0.41        85\n",
      "   Observasi       0.33      0.17      0.22         6\n",
      "     Outcome       0.55      0.45      0.49        94\n",
      "      Pasien       0.90      1.00      0.95        18\n",
      "     Pembuka       1.00      0.50      0.67        34\n",
      "     Penutup       0.72      0.98      0.83        45\n",
      "    Penyakit       0.53      0.58      0.56        53\n",
      "    Penyebab       0.68      0.53      0.59        76\n",
      "     Periode       0.52      0.67      0.58        21\n",
      "  Pertanyaan       0.83      0.43      0.57        23\n",
      "  Prakondisi       0.45      0.27      0.34        52\n",
      "   Referensi       0.50      0.50      0.50         2\n",
      "    Tindakan       0.75      0.54      0.62       192\n",
      " Usia pasien       0.93      0.72      0.81        18\n",
      "\n",
      "    accuracy                           0.55       807\n",
      "   macro avg       0.65      0.55      0.57       807\n",
      "weighted avg       0.62      0.55      0.56       807\n",
      "\n"
     ]
    }
   ],
   "source": [
    "# Performance\n",
    "from sklearn.metrics import classification_report\n",
    "print(classification_report(y_test, y_pred, zero_division=0))"
   ]
  },
  {
   "cell_type": "code",
   "execution_count": 151,
   "id": "a956c03a-53f5-4f5c-af15-483eb3b563fd",
   "metadata": {},
   "outputs": [
    {
     "name": "stdout",
     "output_type": "stream",
     "text": [
      "              precision    recall  f1-score   support\n",
      "\n",
      "     Artikel       0.50      0.50      0.50         2\n",
      "      Gejala       0.49      0.48      0.49        56\n",
      "       Kapan       0.70      0.33      0.45        21\n",
      "       Objek       0.31      0.66      0.42        85\n",
      "   Observasi       0.00      0.00      0.00         6\n",
      "     Outcome       0.45      0.42      0.43        93\n",
      "      Pasien       0.89      0.94      0.92        18\n",
      "     Pembuka       1.00      0.57      0.72        30\n",
      "     Penutup       0.69      0.97      0.81        30\n",
      "    Penyakit       0.45      0.51      0.48        53\n",
      "    Penyebab       0.57      0.46      0.51        74\n",
      "     Periode       0.67      0.55      0.60        11\n",
      "  Pertanyaan       0.30      0.14      0.19        21\n",
      "  Prakondisi       0.40      0.31      0.35        51\n",
      "   Referensi       1.00      0.50      0.67         2\n",
      "    Tindakan       0.69      0.54      0.61       192\n",
      "\n",
      "    accuracy                           0.52       745\n",
      "   macro avg       0.57      0.49      0.51       745\n",
      "weighted avg       0.55      0.52      0.52       745\n",
      "\n"
     ]
    }
   ],
   "source": [
    "# Performance Preprocessed\n",
    "from sklearn.metrics import classification_report\n",
    "print(classification_report(y_test_pre, y_pred_pre, zero_division=0))"
   ]
  },
  {
   "cell_type": "markdown",
   "id": "4ba2a411-6d1e-4e9c-bb3b-1de9a0def2a7",
   "metadata": {},
   "source": [
    "# Random Forest"
   ]
  },
  {
   "cell_type": "code",
   "execution_count": 164,
   "id": "c1242e12-f121-449c-8b39-14b625890f06",
   "metadata": {},
   "outputs": [],
   "source": [
    "# Train KNN for non-prepreocessed data with tuning\n",
    "from sklearn.model_selection import GridSearchCV\n",
    "from sklearn.ensemble import RandomForestClassifier\n",
    "\n",
    "hyperparameters = {\n",
    "    'n_estimators': [100, 200, 500],\n",
    "#     'max_depth': range(8, 12),\n",
    "    'criterion':['gini', 'entropy'],\n",
    "}"
   ]
  },
  {
   "cell_type": "code",
   "execution_count": 165,
   "id": "63327b6d-5ccb-4fe3-bbab-1139baf85aba",
   "metadata": {},
   "outputs": [
    {
     "data": {
      "text/plain": [
       "GridSearchCV(cv=8, estimator=RandomForestClassifier(),\n",
       "             param_grid={'criterion': ['gini', 'entropy'],\n",
       "                         'n_estimators': [100, 200, 500]})"
      ]
     },
     "execution_count": 165,
     "metadata": {},
     "output_type": "execute_result"
    }
   ],
   "source": [
    "# Model no preprocessing\n",
    "model = GridSearchCV(RandomForestClassifier(), hyperparameters, cv=8)\n",
    "model.fit(x_train, y_train)"
   ]
  },
  {
   "cell_type": "code",
   "execution_count": 166,
   "id": "0b651c2c-fb7b-4502-83f1-1d1c118fc4ac",
   "metadata": {},
   "outputs": [
    {
     "data": {
      "text/plain": [
       "GridSearchCV(cv=8, estimator=RandomForestClassifier(),\n",
       "             param_grid={'criterion': ['gini', 'entropy'],\n",
       "                         'n_estimators': [100, 200, 500]})"
      ]
     },
     "execution_count": 166,
     "metadata": {},
     "output_type": "execute_result"
    }
   ],
   "source": [
    "# Model preprocessing\n",
    "model_pre = GridSearchCV(RandomForestClassifier(), hyperparameters, cv=8)\n",
    "model_pre.fit(x_train_pre, y_train_pre)"
   ]
  },
  {
   "cell_type": "code",
   "execution_count": 170,
   "id": "5f8ef3bb-cccb-47d9-8369-4bf299e654ca",
   "metadata": {},
   "outputs": [
    {
     "data": {
      "text/plain": [
       "{'criterion': 'gini', 'n_estimators': 100}"
      ]
     },
     "execution_count": 170,
     "metadata": {},
     "output_type": "execute_result"
    }
   ],
   "source": [
    "model.best_params_"
   ]
  },
  {
   "cell_type": "code",
   "execution_count": 167,
   "id": "de6a0214-9403-4477-b4df-b2dd80082cff",
   "metadata": {},
   "outputs": [],
   "source": [
    "y_pred = model.predict(x_test)\n",
    "y_pred_pre = model_pre.predict(x_test_pre)"
   ]
  },
  {
   "cell_type": "code",
   "execution_count": 168,
   "id": "20b9e2ff-6f00-41e4-a51b-cc0079db961e",
   "metadata": {},
   "outputs": [
    {
     "name": "stdout",
     "output_type": "stream",
     "text": [
      "              precision    recall  f1-score   support\n",
      "\n",
      "     Artikel       0.00      0.00      0.00         2\n",
      "      Gejala       0.59      0.52      0.55        56\n",
      "       Kapan       0.79      0.37      0.50        30\n",
      "       Objek       0.51      0.80      0.62        85\n",
      "   Observasi       0.00      0.00      0.00         6\n",
      "     Outcome       0.55      0.59      0.57        94\n",
      "      Pasien       0.95      1.00      0.97        18\n",
      "     Pembuka       0.88      0.85      0.87        34\n",
      "     Penutup       0.91      0.89      0.90        45\n",
      "    Penyakit       0.59      0.64      0.61        53\n",
      "    Penyebab       0.72      0.57      0.63        76\n",
      "     Periode       0.58      0.71      0.64        21\n",
      "  Pertanyaan       0.84      0.70      0.76        23\n",
      "  Prakondisi       0.45      0.29      0.35        52\n",
      "   Referensi       1.00      0.50      0.67         2\n",
      "    Tindakan       0.70      0.73      0.72       192\n",
      " Usia pasien       1.00      0.83      0.91        18\n",
      "\n",
      "    accuracy                           0.66       807\n",
      "   macro avg       0.65      0.59      0.60       807\n",
      "weighted avg       0.66      0.66      0.65       807\n",
      "\n"
     ]
    }
   ],
   "source": [
    "# Performance\n",
    "from sklearn.metrics import classification_report\n",
    "print(classification_report(y_test, y_pred, zero_division=0))"
   ]
  },
  {
   "cell_type": "code",
   "execution_count": 169,
   "id": "9a04dd66-d62f-4f78-a139-86a1e1fbc37f",
   "metadata": {},
   "outputs": [
    {
     "name": "stdout",
     "output_type": "stream",
     "text": [
      "              precision    recall  f1-score   support\n",
      "\n",
      "     Artikel       1.00      0.50      0.67         2\n",
      "      Gejala       0.52      0.52      0.52        56\n",
      "       Kapan       0.57      0.19      0.29        21\n",
      "       Objek       0.39      0.64      0.48        85\n",
      "   Observasi       0.00      0.00      0.00         6\n",
      "     Outcome       0.50      0.49      0.50        93\n",
      "      Pasien       0.95      1.00      0.97        18\n",
      "     Pembuka       0.88      0.97      0.92        30\n",
      "     Penutup       1.00      0.83      0.91        30\n",
      "    Penyakit       0.46      0.51      0.48        53\n",
      "    Penyebab       0.59      0.45      0.51        74\n",
      "     Periode       0.67      0.55      0.60        11\n",
      "  Pertanyaan       0.42      0.24      0.30        21\n",
      "  Prakondisi       0.53      0.35      0.42        51\n",
      "   Referensi       1.00      0.50      0.67         2\n",
      "    Tindakan       0.63      0.66      0.64       192\n",
      "\n",
      "    accuracy                           0.57       745\n",
      "   macro avg       0.63      0.52      0.55       745\n",
      "weighted avg       0.58      0.57      0.56       745\n",
      "\n"
     ]
    }
   ],
   "source": [
    "# Performance Preprocessed\n",
    "from sklearn.metrics import classification_report\n",
    "print(classification_report(y_test_pre, y_pred_pre, zero_division=0))"
   ]
  },
  {
   "cell_type": "code",
   "execution_count": null,
   "id": "41ff3631-00ba-4cfe-b3b2-1bb4e4396213",
   "metadata": {},
   "outputs": [],
   "source": []
  }
 ],
 "metadata": {
  "kernelspec": {
   "display_name": "Python 3",
   "language": "python",
   "name": "python3"
  },
  "language_info": {
   "codemirror_mode": {
    "name": "ipython",
    "version": 3
   },
   "file_extension": ".py",
   "mimetype": "text/x-python",
   "name": "python",
   "nbconvert_exporter": "python",
   "pygments_lexer": "ipython3",
   "version": "3.9.6"
  }
 },
 "nbformat": 4,
 "nbformat_minor": 5
}
